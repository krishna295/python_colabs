{
  "nbformat": 4,
  "nbformat_minor": 0,
  "metadata": {
    "colab": {
      "provenance": [],
      "toc_visible": true,
      "authorship_tag": "ABX9TyOJJ1PK11lQFJNroDmbCmmK",
      "include_colab_link": true
    },
    "kernelspec": {
      "name": "python3",
      "display_name": "Python 3"
    },
    "language_info": {
      "name": "python"
    }
  },
  "cells": [
    {
      "cell_type": "markdown",
      "metadata": {
        "id": "view-in-github",
        "colab_type": "text"
      },
      "source": [
        "<a href=\"https://colab.research.google.com/github/krishna295/python_colabs/blob/main/Computer_Fundamentals.ipynb\" target=\"_parent\"><img src=\"https://colab.research.google.com/assets/colab-badge.svg\" alt=\"Open In Colab\"/></a>"
      ]
    },
    {
      "cell_type": "markdown",
      "source": [
        "\n",
        "#   Input devices\n",
        "* keyboard\n",
        "* Mouse\n",
        "* ??\n"
      ],
      "metadata": {
        "id": "CgGctxJpcIVg"
      }
    },
    {
      "cell_type": "markdown",
      "source": [
        "#   Ouput devices\n",
        "* Monitor\n",
        "* Printer\n",
        "*???"
      ],
      "metadata": {
        "id": "RaYzlc6fOV4T"
      }
    },
    {
      "cell_type": "markdown",
      "source": [
        "\n",
        "# Core components"
      ],
      "metadata": {
        "id": "7DbTSbOJcVYr"
      }
    },
    {
      "cell_type": "markdown",
      "source": [],
      "metadata": {
        "id": "09cy3n42bPo-"
      }
    },
    {
      "cell_type": "code",
      "source": [
        "import psutil\n",
        "import shutil\n",
        "\n",
        "\n",
        "#Physical cores\n",
        "print(f\"Number of physical cores: {psutil.cpu_count(logical=False)}\")\n",
        "#Logical cores\n",
        "print(f\"Number of logical cores: {psutil.cpu_count(logical=True)}\")\n",
        "#System-wide CPU utilization\n",
        "print(f\"Current CPU utilization: {psutil.cpu_percent(interval=1)}\")\n",
        "#System-wide per-CPU utilization\n",
        "print(f\"Current per-CPU utilization: {psutil.cpu_percent(interval=1, percpu=True)}\")\n",
        "print(f\"Min CPU frequency: {psutil.cpu_freq()}\")\n",
        "#Total RAM\n",
        "print(f\"Total RAM installed: {round(psutil.virtual_memory().total/1000000000, 2)} GB\")\n",
        "#Available RAM\n",
        "print(f\"Available RAM: {round(psutil.virtual_memory().available/1000000000, 2)} GB\")\n",
        "#Used RAM\n",
        "print(f\"Used RAM: {round(psutil.virtual_memory().used/1000000000, 2)} GB\")\n",
        "#RAM usage\n",
        "print(f\"RAM usage: {psutil.virtual_memory().percent}%\")\n",
        "print(f\"Disk Space Total: {round(shutil.disk_usage('/').total/(1024.0 ** 3),4)} GiB\")\n",
        "print(f\"Disk Space Used: {round(shutil.disk_usage('/').used/(1024.0 ** 3),4)} GiB \")\n",
        "print(f\"Disk Space Free: {round(shutil.disk_usage('/').free/(1024.0 ** 3),4)} GiB\")\n",
        "\n"
      ],
      "metadata": {
        "colab": {
          "base_uri": "https://localhost:8080/"
        },
        "id": "AW7vI5iPQgM3",
        "outputId": "409db90e-27f3-45f9-d8be-2852b44ce435"
      },
      "execution_count": 21,
      "outputs": [
        {
          "output_type": "stream",
          "name": "stdout",
          "text": [
            "Number of physical cores: 1\n",
            "Number of logical cores: 2\n",
            "Current CPU utilization: 8.0\n",
            "Current per-CPU utilization: [3.0, 5.0]\n",
            "Min CPU frequency: None\n",
            "Total RAM installed: 13.62 GB\n",
            "Available RAM: 12.72 GB\n",
            "Used RAM: 0.68 GB\n",
            "RAM usage: 6.6%\n",
            "Disk Space Total: 107.7151 GiB\n",
            "Disk Space Used: 22.9318 GiB \n",
            "Disk Space Free: 84.7677 GiB\n"
          ]
        }
      ]
    },
    {
      "cell_type": "markdown",
      "source": [],
      "metadata": {
        "id": "Q_SNq91IOV2k"
      }
    },
    {
      "cell_type": "code",
      "execution_count": 2,
      "metadata": {
        "colab": {
          "base_uri": "https://localhost:8080/"
        },
        "id": "5jfNUlEJOTFa",
        "outputId": "e6d6170a-1783-4477-f187-844a09f60c3a"
      },
      "outputs": [
        {
          "output_type": "stream",
          "name": "stdout",
          "text": [
            "Computer network name: 4dbbc7ad5975\n",
            "Machine type: x86_64\n",
            "Processor type: x86_64\n",
            "Machine: x86_64\n",
            "Platform type: Linux-5.10.133+-x86_64-with-glibc2.27\n",
            "Operating system: Linux\n",
            "Operating system release: 5.10.133+\n",
            "Operating system version: #1 SMP Fri Aug 26 08:44:51 UTC 2022\n"
          ]
        }
      ],
      "source": [
        "import platform\n",
        "\n",
        "#Computer network name\n",
        "print(f\"Computer network name: {platform.node()}\")\n",
        "#Machine type\n",
        "print(f\"Machine type: {platform.machine()}\")\n",
        "#Processor type\n",
        "print(f\"Processor type: {platform.processor()}\")\n",
        "#Platform type\n",
        "print(f\"Platform type: {platform.platform()}\")\n",
        "#Operating system\n",
        "print(f\"Operating system: {platform.system()}\")\n",
        "#Operating system release\n",
        "print(f\"Operating system release: {platform.release()}\")\n",
        "#Operating system version\n",
        "print(f\"Operating system version: {platform.version()}\")\n",
        "\n"
      ]
    },
    {
      "cell_type": "markdown",
      "source": [],
      "metadata": {
        "id": "-abf9T9eOUoJ"
      }
    },
    {
      "cell_type": "markdown",
      "source": [
        "# CPU\n",
        "* Phisical and virtual cores ( ex: 1,2...)\n",
        "* Speed is calculated in megahertz (MHz) or gigahertz (GHz)(ex: 2 GHz)\n",
        "  * The clock speed of computers is usually measured in megahertz (MHz) or gigahertz (GHz). One megahertz equals one million ticks per second, and one gigahertz equals one billion ticks per second.\n"
      ],
      "metadata": {
        "id": "JApTakPffh4S"
      }
    },
    {
      "cell_type": "markdown",
      "source": [
        "# Memory (RAM)\n",
        "* Memory technologies\n",
        "  * SRAM - Static Random Access Memory\n",
        "  * DRAM - Dynamic Random Access Memory\n",
        "  * SDRAM - Synchronous Dynamic Random Access Memory\n",
        "  * DDR - Double Data Rate\n",
        "  * PROM - Programmable Read Only Memory\n",
        "  * EPROM - Erasable Programmable Read Only Memory\n",
        "* Memory is mesured in KB(Kilo bytes), MB (Mega Bytes), GB (Giga Bytes), indicates how much data can be stored\n",
        "* Memory speed is mesured based on CAS latency(CL), clock speed(Mhz) \n"
      ],
      "metadata": {
        "id": "ze9zsY2Xfh5x"
      }
    },
    {
      "cell_type": "markdown",
      "source": [
        "#Storage\n",
        "* Storage technologies\n",
        "  * SSD(Solid state device)\n",
        "  * HDD(Hard Drives with magnatic storage)\n",
        "* Mesured in KB, MB, GB similar to RAM\n",
        "* Speed is determined based on IOPS(Input output operations per sec)"
      ],
      "metadata": {
        "id": "hjX1srstk24F"
      }
    }
  ]
}