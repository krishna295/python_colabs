{
  "nbformat": 4,
  "nbformat_minor": 0,
  "metadata": {
    "colab": {
      "provenance": [],
      "authorship_tag": "ABX9TyOXyYKtSG7AG9IBmBC/XPnY",
      "include_colab_link": true
    },
    "kernelspec": {
      "name": "python3",
      "display_name": "Python 3"
    },
    "language_info": {
      "name": "python"
    }
  },
  "cells": [
    {
      "cell_type": "markdown",
      "metadata": {
        "id": "view-in-github",
        "colab_type": "text"
      },
      "source": [
        "<a href=\"https://colab.research.google.com/github/krishna295/python_colabs/blob/main/Mathamatical_Operations.ipynb\" target=\"_parent\"><img src=\"https://colab.research.google.com/assets/colab-badge.svg\" alt=\"Open In Colab\"/></a>"
      ]
    },
    {
      "cell_type": "markdown",
      "source": [
        "# Basic Mathamatical operations"
      ],
      "metadata": {
        "id": "8jvuU1JnBSPL"
      }
    },
    {
      "cell_type": "code",
      "source": [
        "#Multiplication\n",
        "a = 2\n",
        "b = 5\n",
        "c= a*b\n",
        "\n",
        "print(c)"
      ],
      "metadata": {
        "colab": {
          "base_uri": "https://localhost:8080/"
        },
        "id": "flCySw8j2BBk",
        "outputId": "a48b0d49-5fcf-497c-e8d1-4dae32b2d2ca"
      },
      "execution_count": null,
      "outputs": [
        {
          "output_type": "stream",
          "name": "stdout",
          "text": [
            "10\n"
          ]
        }
      ]
    },
    {
      "cell_type": "code",
      "source": [
        "#Addition\n",
        "a = 2\n",
        "b = 5\n",
        "c= a+b\n",
        "print(c)\n"
      ],
      "metadata": {
        "id": "585kcqOx94Wf"
      },
      "execution_count": null,
      "outputs": []
    },
    {
      "cell_type": "code",
      "source": [
        "#Substraction\n",
        "a = 2\n",
        "b = 5\n",
        "c= a-b\n",
        "print(c)"
      ],
      "metadata": {
        "id": "uJhQHioQ_MPB",
        "outputId": "265b0cdd-c069-42b0-c845-e838add8c8b7",
        "colab": {
          "base_uri": "https://localhost:8080/"
        }
      },
      "execution_count": null,
      "outputs": [
        {
          "output_type": "stream",
          "name": "stdout",
          "text": [
            "-3\n"
          ]
        }
      ]
    },
    {
      "cell_type": "code",
      "source": [
        "#Exponentiation\n",
        "a = 3\n",
        "b = 2\n",
        "c = a**b\n",
        "print(c)"
      ],
      "metadata": {
        "id": "_MKunUdp_UJL",
        "outputId": "a2b5ab3a-f20c-4e6e-a02e-362f306fec94",
        "colab": {
          "base_uri": "https://localhost:8080/"
        }
      },
      "execution_count": null,
      "outputs": [
        {
          "output_type": "stream",
          "name": "stdout",
          "text": [
            "9\n"
          ]
        }
      ]
    },
    {
      "cell_type": "code",
      "source": [
        "# Floor division\n",
        "a = 15\n",
        "b = 6\n",
        "c = a//b\n",
        "print(c)"
      ],
      "metadata": {
        "id": "cvshR92X_2Qx",
        "outputId": "4b2ecb52-10df-4ef0-a56e-b3e80e3e8628",
        "colab": {
          "base_uri": "https://localhost:8080/"
        }
      },
      "execution_count": null,
      "outputs": [
        {
          "output_type": "stream",
          "name": "stdout",
          "text": [
            "2\n"
          ]
        }
      ]
    },
    {
      "cell_type": "code",
      "source": [
        "#Division\n",
        "a = 6\n",
        "b = 2\n",
        "c= a/b\n",
        "print(c)\n"
      ],
      "metadata": {
        "id": "gWlhly-8-Khw",
        "outputId": "46708713-21c8-43f8-c806-e9dcf884b46b",
        "colab": {
          "base_uri": "https://localhost:8080/"
        }
      },
      "execution_count": null,
      "outputs": [
        {
          "output_type": "stream",
          "name": "stdout",
          "text": [
            "3.0\n"
          ]
        }
      ]
    },
    {
      "cell_type": "code",
      "source": [
        "#Reminder/Modulus\n",
        "a = 5\n",
        "b = 2\n",
        "c = a%b\n",
        "print(c)"
      ],
      "metadata": {
        "id": "5UbydNYd-X69",
        "outputId": "50740328-f9e9-4404-bb4c-3e253818521d",
        "colab": {
          "base_uri": "https://localhost:8080/"
        }
      },
      "execution_count": null,
      "outputs": [
        {
          "output_type": "stream",
          "name": "stdout",
          "text": [
            "1\n"
          ]
        }
      ]
    },
    {
      "cell_type": "markdown",
      "source": [
        "# Print 10 numbers"
      ],
      "metadata": {
        "id": "S5ABAW_4BYlE"
      }
    },
    {
      "cell_type": "code",
      "source": [
        "#print 10 numbers\n",
        "for x in range(10):\n",
        "  print(x)"
      ],
      "metadata": {
        "colab": {
          "base_uri": "https://localhost:8080/"
        },
        "id": "I3QnSNwi4NqF",
        "outputId": "9296d76e-62c0-4c62-9ef0-e15d3e7e4c8f"
      },
      "execution_count": 4,
      "outputs": [
        {
          "output_type": "stream",
          "name": "stdout",
          "text": [
            "0\n",
            "1\n",
            "2\n",
            "3\n",
            "4\n",
            "5\n",
            "6\n",
            "7\n",
            "8\n",
            "9\n"
          ]
        }
      ]
    },
    {
      "cell_type": "markdown",
      "source": [
        "# Workshop\n",
        "\n",
        "** Print multiplication 9 in below format **\n",
        "\n",
        "9X1=9\n",
        "\n",
        "..\n",
        "\n",
        "9x10=90\n"
      ],
      "metadata": {
        "id": "Q6Wwc9HweDel"
      }
    },
    {
      "cell_type": "code",
      "source": [],
      "metadata": {
        "id": "pWum3h23eczm"
      },
      "execution_count": null,
      "outputs": []
    },
    {
      "cell_type": "markdown",
      "source": [
        "# Find Even/Odd numbers"
      ],
      "metadata": {
        "id": "gtOuvn4sC-eo"
      }
    },
    {
      "cell_type": "code",
      "source": [
        "num=int(input(\"Enter number to check odd or even! \"))\n",
        "\n",
        "if num%2 == 0:\n",
        "  print(f\"{num} is even number\")\n",
        "else:\n",
        "  print(f\"{num} is odd number\")"
      ],
      "metadata": {
        "colab": {
          "base_uri": "https://localhost:8080/"
        },
        "id": "c5k9nzBHCb5E",
        "outputId": "c7c12704-269c-4d22-c388-781c879adcb0"
      },
      "execution_count": null,
      "outputs": [
        {
          "output_type": "stream",
          "name": "stdout",
          "text": [
            "Enter number to check odd or even! 87487398701279584912657\n",
            "87487398701279584912657 is odd number\n"
          ]
        }
      ]
    },
    {
      "cell_type": "markdown",
      "source": [
        "# Factorial\n",
        "The factorial of a number is the product of all the integers from 1 to that number.\n",
        "\n",
        "For example, the factorial of 6 is 1* 2* 3 *4 *5 *6 = 720. Factorial is not defined for negative numbers, and the factorial of zero is one, 0! = 1."
      ],
      "metadata": {
        "id": "2R5sEstY8k6Z"
      }
    },
    {
      "cell_type": "code",
      "source": [
        "#find factorial\n",
        "#num = int(input(\"Enter number to find factorial!\"))\n",
        "num = 7\n",
        "factorial = 1\n",
        "for i in range(1,num + 1):\n",
        "  factorial = factorial*i\n",
        "print(f\"The factorial of {num}, is {factorial}\")"
      ],
      "metadata": {
        "colab": {
          "base_uri": "https://localhost:8080/"
        },
        "id": "rewg7TO_4m1L",
        "outputId": "770bbbc2-6fbd-4ddb-d6f4-916e77e007b8"
      },
      "execution_count": null,
      "outputs": [
        {
          "output_type": "stream",
          "name": "stdout",
          "text": [
            "The factorial of 7, is 5040\n"
          ]
        }
      ]
    },
    {
      "cell_type": "markdown",
      "source": [
        "# Prime numbers\n",
        "A positive integer greater than 1 which has no other factors except 1 and the number itself is called a prime number. 2, 3, 5, 7 etc. are prime numbers as they do not have any other factors."
      ],
      "metadata": {
        "id": "lAmYAZls8DoX"
      }
    },
    {
      "cell_type": "code",
      "source": [
        "#find prime numbers\n",
        "num = int(input(\"Enter nmber to check prime! \"))\n",
        "# define a flag variable\n",
        "flag = False\n",
        "\n",
        "# prime numbers are greater than 1\n",
        "if num > 1:\n",
        "    # check for factors\n",
        "    for i in range(2, num):\n",
        "        if (num % i) == 0:\n",
        "            # if factor is found, set flag to True\n",
        "            print(num,i)\n",
        "            flag = True\n",
        "            # break out of loop\n",
        "            break\n",
        "\n",
        "# check if flag is True\n",
        "if flag:\n",
        "    print(num, \"is not a prime number\")\n",
        "else:\n",
        "    print(num, \"is a prime number\")"
      ],
      "metadata": {
        "colab": {
          "base_uri": "https://localhost:8080/"
        },
        "id": "S15s2RAo2oG6",
        "outputId": "4f3b9cf8-fb9a-4696-89d0-5570cf47e51e"
      },
      "execution_count": null,
      "outputs": [
        {
          "output_type": "stream",
          "name": "stdout",
          "text": [
            "77 7\n",
            "77 is not a prime number\n"
          ]
        }
      ]
    },
    {
      "cell_type": "markdown",
      "source": [
        "# Fibonacci sequence\n",
        "A **Fibonacci** sequence is the integer sequence of 0, 1, 1, 2, 3, 5, 8....\n",
        "\n",
        "The first two terms are 0 and 1. All other terms are obtained by adding the preceding two terms. This means to say the nth term is the sum of **(n-1)**th and **(n-2)**th term."
      ],
      "metadata": {
        "id": "QjAqzd5-7uet"
      }
    },
    {
      "cell_type": "code",
      "source": [
        "# find Fibonacci sequence\n",
        "\n",
        "nterms=int(input(\"How many terms\"))\n",
        "print(f\"Fibonacci sequence {nterms} terms\")\n",
        "count = 0\n",
        "n1, n2 = 0, 1\n",
        "\n",
        "while count < nterms:\n",
        "  print(n1)\n",
        "  nth = n1 + n2\n",
        "  # update values\n",
        "  n1 = n2\n",
        "  n2 = nth\n",
        "  count += 1\n",
        "\n"
      ],
      "metadata": {
        "colab": {
          "base_uri": "https://localhost:8080/"
        },
        "id": "m_4k64y539nY",
        "outputId": "a2901303-122a-4377-faa9-f752b411f6cf"
      },
      "execution_count": null,
      "outputs": [
        {
          "output_type": "stream",
          "name": "stdout",
          "text": [
            "How many terms4\n",
            "Fibonacci sequence 4 terms\n",
            "0\n",
            "1\n",
            "1\n",
            "2\n"
          ]
        }
      ]
    }
  ]
}