{
  "nbformat": 4,
  "nbformat_minor": 0,
  "metadata": {
    "colab": {
      "provenance": [],
      "authorship_tag": "ABX9TyPYU/P/+TvNVBaSl1q19WWL",
      "include_colab_link": true
    },
    "kernelspec": {
      "name": "python3",
      "display_name": "Python 3"
    },
    "language_info": {
      "name": "python"
    }
  },
  "cells": [
    {
      "cell_type": "markdown",
      "metadata": {
        "id": "view-in-github",
        "colab_type": "text"
      },
      "source": [
        "<a href=\"https://colab.research.google.com/github/krishna295/python_colabs/blob/main/Python_Syntax.ipynb\" target=\"_parent\"><img src=\"https://colab.research.google.com/assets/colab-badge.svg\" alt=\"Open In Colab\"/></a>"
      ]
    },
    {
      "cell_type": "markdown",
      "source": [
        "# Syntax\n",
        "\n",
        "\n",
        "*   Python syntax can be executed by writing directly in the Command Line\n",
        "\n",
        "\n",
        "\n"
      ],
      "metadata": {
        "id": "QWcvF46ZW06y"
      }
    },
    {
      "cell_type": "code",
      "execution_count": 1,
      "metadata": {
        "colab": {
          "base_uri": "https://localhost:8080/"
        },
        "id": "fpg70Xk5Wxet",
        "outputId": "c1878934-14ba-4c2e-8d9c-c76be315a4b2"
      },
      "outputs": [
        {
          "output_type": "stream",
          "name": "stdout",
          "text": [
            "Hello world\n"
          ]
        }
      ],
      "source": [
        "print(\"Hello world\")"
      ]
    },
    {
      "cell_type": "markdown",
      "source": [
        "\n",
        "\n",
        "*   Python syntax can be saved to file and execute\n",
        "\n",
        "C:\\Users\\Your Name>python myfile.py"
      ],
      "metadata": {
        "id": "pq_EnzNHWyQf"
      }
    },
    {
      "cell_type": "markdown",
      "source": [
        "\n",
        "\n",
        "---\n",
        "\n",
        "\n",
        "*   **Indentation** refers to the spaces at the beginning of a code line.\n",
        "\n",
        "\n",
        "*   Where in other programming languages the indentation in code is for readability only, the indentation in Python is very important.\n",
        "*   Python uses indentation to indicate a block of code.\n",
        "*   You have to use the same number of spaces in the same block of code, otherwise Python will give you an error:\n",
        "\n"
      ],
      "metadata": {
        "id": "fXdQjYxBZDqs"
      }
    },
    {
      "cell_type": "code",
      "source": [
        "if 5 > 2:\n",
        "  print(\"Five is greater than two!\")"
      ],
      "metadata": {
        "id": "4ougja9fZuR1"
      },
      "execution_count": null,
      "outputs": []
    },
    {
      "cell_type": "markdown",
      "source": [
        "Examin below block with no indentation"
      ],
      "metadata": {
        "id": "jKXjCC58bzKc"
      }
    },
    {
      "cell_type": "code",
      "source": [
        "if 5 > 2:\n",
        "print(\"Five is greater than two!\")"
      ],
      "metadata": {
        "id": "YzYtHPPaZ1OY"
      },
      "execution_count": null,
      "outputs": []
    },
    {
      "cell_type": "markdown",
      "source": [
        "Multiple blocks with indentation"
      ],
      "metadata": {
        "id": "D_jIe3j_cAtZ"
      }
    },
    {
      "cell_type": "code",
      "source": [
        "for i in range(10):\n",
        "  \n",
        "  if i%2 == 0:\n",
        "    print(\"even\")\n",
        "  else:\n",
        "    print(\"odd\")"
      ],
      "metadata": {
        "id": "ZnBO7LfDaYLc"
      },
      "execution_count": null,
      "outputs": []
    },
    {
      "cell_type": "markdown",
      "source": [
        "Try running below block with varying number of spaces in same block"
      ],
      "metadata": {
        "id": "foiUc2HabO1a"
      }
    },
    {
      "cell_type": "code",
      "source": [
        "for i in range(10):\n",
        "  \n",
        "  if i%2 == 0:\n",
        "    print(\"even\")\n",
        "      print(f\"{i} is even\")\n",
        "  else:\n",
        "    print(\"odd\")"
      ],
      "metadata": {
        "id": "Yxhn_VV8a6eW"
      },
      "execution_count": null,
      "outputs": []
    },
    {
      "cell_type": "markdown",
      "source": [
        "How to declare variable\n"
      ],
      "metadata": {
        "id": "8UPYQg3gckMQ"
      }
    },
    {
      "cell_type": "code",
      "source": [
        "phone = 1234567890\n",
        "town = \"Holliston\"\n"
      ],
      "metadata": {
        "id": "fE6Vu4hyc4HB"
      },
      "execution_count": null,
      "outputs": []
    },
    {
      "cell_type": "markdown",
      "source": [
        "*How to write comments?*\n",
        "\n",
        "Python has commenting capability for the purpose of in-code documentation.\n",
        "\n",
        "Comments start with a #, and Python will render the rest of the line as a comment"
      ],
      "metadata": {
        "id": "rswZp7dJdX8T"
      }
    },
    {
      "cell_type": "code",
      "source": [
        "#This is a comment.\n",
        "print(\"Hello, World!\")"
      ],
      "metadata": {
        "id": "v30WVFs_dbBL"
      },
      "execution_count": null,
      "outputs": []
    },
    {
      "cell_type": "markdown",
      "source": [
        "Multiline comments"
      ],
      "metadata": {
        "id": "dWm-klT9d4Ph"
      }
    },
    {
      "cell_type": "code",
      "source": [
        "'''\n",
        "  This is multi line\n",
        "   comments\n",
        "'''\n",
        "print(\"Hello World\")"
      ],
      "metadata": {
        "colab": {
          "base_uri": "https://localhost:8080/"
        },
        "id": "w54hn4tOd7S1",
        "outputId": "1e9d4f1c-3d66-4501-a29d-38d0376df200"
      },
      "execution_count": 3,
      "outputs": [
        {
          "output_type": "stream",
          "name": "stdout",
          "text": [
            "Hello World\n"
          ]
        }
      ]
    }
  ]
}