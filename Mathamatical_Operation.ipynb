{
  "nbformat": 4,
  "nbformat_minor": 0,
  "metadata": {
    "colab": {
      "provenance": [],
      "authorship_tag": "ABX9TyPbDuuDwMZp2w7AQNJS3m2H",
      "include_colab_link": true
    },
    "kernelspec": {
      "name": "python3",
      "display_name": "Python 3"
    },
    "language_info": {
      "name": "python"
    }
  },
  "cells": [
    {
      "cell_type": "markdown",
      "metadata": {
        "id": "view-in-github",
        "colab_type": "text"
      },
      "source": [
        "<a href=\"https://colab.research.google.com/github/krishna295/python_colabs/blob/main/Class_1.ipynb\" target=\"_parent\"><img src=\"https://colab.research.google.com/assets/colab-badge.svg\" alt=\"Open In Colab\"/></a>"
      ]
    },
    {
      "cell_type": "markdown",
      "source": [
        "# Hello world"
      ],
      "metadata": {
        "id": "8jvuU1JnBSPL"
      }
    },
    {
      "cell_type": "code",
      "source": [
        "#Hello world\n",
        "print(\"Hello World\")"
      ],
      "metadata": {
        "colab": {
          "base_uri": "https://localhost:8080/"
        },
        "id": "flCySw8j2BBk",
        "outputId": "99260439-6a58-436e-d04f-d4e8fe8686dc"
      },
      "execution_count": null,
      "outputs": [
        {
          "output_type": "stream",
          "name": "stdout",
          "text": [
            "Hello World\n"
          ]
        }
      ]
    },
    {
      "cell_type": "markdown",
      "source": [
        "# Print 10 numbers"
      ],
      "metadata": {
        "id": "S5ABAW_4BYlE"
      }
    },
    {
      "cell_type": "code",
      "source": [
        "#print 10 numbers\n",
        "for x in range(10):\n",
        "  print(x)"
      ],
      "metadata": {
        "colab": {
          "base_uri": "https://localhost:8080/"
        },
        "id": "I3QnSNwi4NqF",
        "outputId": "cad510d2-a17e-4336-bc7c-37422aca68fd"
      },
      "execution_count": null,
      "outputs": [
        {
          "output_type": "stream",
          "name": "stdout",
          "text": [
            "0\n",
            "1\n",
            "2\n",
            "3\n",
            "4\n",
            "5\n",
            "6\n",
            "7\n",
            "8\n",
            "9\n"
          ]
        }
      ]
    },
    {
      "cell_type": "markdown",
      "source": [
        "# Find Even/Odd numbers"
      ],
      "metadata": {
        "id": "gtOuvn4sC-eo"
      }
    },
    {
      "cell_type": "code",
      "source": [
        "num=int(input(\"Enter number to check odd or even! \"))\n",
        "\n",
        "if num%2 == 0:\n",
        "  print(f\"{num} is even number\")\n",
        "else:\n",
        "  print(f\"{num} is odd number\")"
      ],
      "metadata": {
        "colab": {
          "base_uri": "https://localhost:8080/"
        },
        "id": "c5k9nzBHCb5E",
        "outputId": "c7c12704-269c-4d22-c388-781c879adcb0"
      },
      "execution_count": null,
      "outputs": [
        {
          "output_type": "stream",
          "name": "stdout",
          "text": [
            "Enter number to check odd or even! 87487398701279584912657\n",
            "87487398701279584912657 is odd number\n"
          ]
        }
      ]
    },
    {
      "cell_type": "markdown",
      "source": [
        "# Factorial\n",
        "The factorial of a number is the product of all the integers from 1 to that number.\n",
        "\n",
        "For example, the factorial of 6 is 1* 2* 3 *4 *5 *6 = 720. Factorial is not defined for negative numbers, and the factorial of zero is one, 0! = 1."
      ],
      "metadata": {
        "id": "2R5sEstY8k6Z"
      }
    },
    {
      "cell_type": "code",
      "source": [
        "#find factorial\n",
        "#num = int(input(\"Enter number to find factorial!\"))\n",
        "num = 7\n",
        "factorial = 1\n",
        "for i in range(1,num + 1):\n",
        "  factorial = factorial*i\n",
        "print(f\"The factorial of {num}, is {factorial}\")"
      ],
      "metadata": {
        "colab": {
          "base_uri": "https://localhost:8080/"
        },
        "id": "rewg7TO_4m1L",
        "outputId": "770bbbc2-6fbd-4ddb-d6f4-916e77e007b8"
      },
      "execution_count": null,
      "outputs": [
        {
          "output_type": "stream",
          "name": "stdout",
          "text": [
            "The factorial of 7, is 5040\n"
          ]
        }
      ]
    },
    {
      "cell_type": "markdown",
      "source": [
        "# Prime numbers\n",
        "A positive integer greater than 1 which has no other factors except 1 and the number itself is called a prime number. 2, 3, 5, 7 etc. are prime numbers as they do not have any other factors."
      ],
      "metadata": {
        "id": "lAmYAZls8DoX"
      }
    },
    {
      "cell_type": "code",
      "source": [
        "#find prime numbers\n",
        "num = int(input(\"Enter nmber to check prime! \"))\n",
        "# define a flag variable\n",
        "flag = False\n",
        "\n",
        "# prime numbers are greater than 1\n",
        "if num > 1:\n",
        "    # check for factors\n",
        "    for i in range(2, num):\n",
        "        if (num % i) == 0:\n",
        "            # if factor is found, set flag to True\n",
        "            print(num,i)\n",
        "            flag = True\n",
        "            # break out of loop\n",
        "            break\n",
        "\n",
        "# check if flag is True\n",
        "if flag:\n",
        "    print(num, \"is not a prime number\")\n",
        "else:\n",
        "    print(num, \"is a prime number\")"
      ],
      "metadata": {
        "colab": {
          "base_uri": "https://localhost:8080/"
        },
        "id": "S15s2RAo2oG6",
        "outputId": "4f3b9cf8-fb9a-4696-89d0-5570cf47e51e"
      },
      "execution_count": null,
      "outputs": [
        {
          "output_type": "stream",
          "name": "stdout",
          "text": [
            "77 7\n",
            "77 is not a prime number\n"
          ]
        }
      ]
    },
    {
      "cell_type": "markdown",
      "source": [
        "# Fibonacci sequence\n",
        "A **Fibonacci** sequence is the integer sequence of 0, 1, 1, 2, 3, 5, 8....\n",
        "\n",
        "The first two terms are 0 and 1. All other terms are obtained by adding the preceding two terms. This means to say the nth term is the sum of **(n-1)**th and **(n-2)**th term."
      ],
      "metadata": {
        "id": "QjAqzd5-7uet"
      }
    },
    {
      "cell_type": "code",
      "source": [
        "# find Fibonacci sequence\n",
        "\n",
        "nterms=int(input(\"How many terms\"))\n",
        "print(f\"Fibonacci sequence {nterms} terms\")\n",
        "count = 0\n",
        "n1, n2 = 0, 1\n",
        "\n",
        "while count < nterms:\n",
        "  print(n1)\n",
        "  nth = n1 + n2\n",
        "  # update values\n",
        "  n1 = n2\n",
        "  n2 = nth\n",
        "  count += 1\n",
        "\n"
      ],
      "metadata": {
        "colab": {
          "base_uri": "https://localhost:8080/"
        },
        "id": "m_4k64y539nY",
        "outputId": "a2901303-122a-4377-faa9-f752b411f6cf"
      },
      "execution_count": null,
      "outputs": [
        {
          "output_type": "stream",
          "name": "stdout",
          "text": [
            "How many terms4\n",
            "Fibonacci sequence 4 terms\n",
            "0\n",
            "1\n",
            "1\n",
            "2\n"
          ]
        }
      ]
    }
  ]
}
